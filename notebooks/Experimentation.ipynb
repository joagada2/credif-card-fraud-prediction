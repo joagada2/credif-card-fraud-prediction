{
 "cells": [
  {
   "cell_type": "markdown",
   "id": "486b61f8",
   "metadata": {},
   "source": [
    "# CREDIT CARD FRAUD DETECTION"
   ]
  },
  {
   "cell_type": "code",
   "execution_count": 1,
   "id": "f6f0ab65",
   "metadata": {},
   "outputs": [],
   "source": [
    "#importation of libraries\n",
    "import pandas as pd\n",
    "import numpy as np\n",
    "import matplotlib.pyplot as plt\n",
    "%matplotlib inline\n",
    "import seaborn as sns\n",
    "from lazypredict.Supervised import LazyClassifier\n",
    "from sklearn.model_selection import train_test_split\n",
    "import xgboost as xgb\n",
    "from sklearn.model_selection import GridSearchCV"
   ]
  },
  {
   "cell_type": "code",
   "execution_count": 2,
   "id": "45293467",
   "metadata": {},
   "outputs": [],
   "source": [
    "df = pd.read_csv('../data/training_data/raw_data/credit_card_transaction_data.csv')"
   ]
  },
  {
   "cell_type": "markdown",
   "id": "76aef770",
   "metadata": {},
   "source": [
    "# EXPLORATORY DATA ANALYSIS"
   ]
  },
  {
   "cell_type": "code",
   "execution_count": 3,
   "id": "d48eceb7",
   "metadata": {},
   "outputs": [
    {
     "data": {
      "text/html": [
       "<div>\n",
       "<style scoped>\n",
       "    .dataframe tbody tr th:only-of-type {\n",
       "        vertical-align: middle;\n",
       "    }\n",
       "\n",
       "    .dataframe tbody tr th {\n",
       "        vertical-align: top;\n",
       "    }\n",
       "\n",
       "    .dataframe thead th {\n",
       "        text-align: right;\n",
       "    }\n",
       "</style>\n",
       "<table border=\"1\" class=\"dataframe\">\n",
       "  <thead>\n",
       "    <tr style=\"text-align: right;\">\n",
       "      <th></th>\n",
       "      <th>distance_from_home</th>\n",
       "      <th>distance_from_last_transaction</th>\n",
       "      <th>ratio_to_median_purchase_price</th>\n",
       "      <th>repeat_retailer</th>\n",
       "      <th>used_chip</th>\n",
       "      <th>used_pin_number</th>\n",
       "      <th>online_order</th>\n",
       "      <th>fraud</th>\n",
       "    </tr>\n",
       "  </thead>\n",
       "  <tbody>\n",
       "    <tr>\n",
       "      <th>0</th>\n",
       "      <td>57.88</td>\n",
       "      <td>0.31</td>\n",
       "      <td>1.95</td>\n",
       "      <td>1.00</td>\n",
       "      <td>1.00</td>\n",
       "      <td>0.00</td>\n",
       "      <td>0.00</td>\n",
       "      <td>0.00</td>\n",
       "    </tr>\n",
       "    <tr>\n",
       "      <th>1</th>\n",
       "      <td>10.83</td>\n",
       "      <td>0.18</td>\n",
       "      <td>1.29</td>\n",
       "      <td>1.00</td>\n",
       "      <td>0.00</td>\n",
       "      <td>0.00</td>\n",
       "      <td>0.00</td>\n",
       "      <td>0.00</td>\n",
       "    </tr>\n",
       "    <tr>\n",
       "      <th>2</th>\n",
       "      <td>5.09</td>\n",
       "      <td>0.81</td>\n",
       "      <td>0.43</td>\n",
       "      <td>1.00</td>\n",
       "      <td>0.00</td>\n",
       "      <td>0.00</td>\n",
       "      <td>1.00</td>\n",
       "      <td>0.00</td>\n",
       "    </tr>\n",
       "    <tr>\n",
       "      <th>3</th>\n",
       "      <td>2.25</td>\n",
       "      <td>5.60</td>\n",
       "      <td>0.36</td>\n",
       "      <td>1.00</td>\n",
       "      <td>1.00</td>\n",
       "      <td>0.00</td>\n",
       "      <td>1.00</td>\n",
       "      <td>0.00</td>\n",
       "    </tr>\n",
       "    <tr>\n",
       "      <th>4</th>\n",
       "      <td>44.19</td>\n",
       "      <td>0.57</td>\n",
       "      <td>2.22</td>\n",
       "      <td>1.00</td>\n",
       "      <td>1.00</td>\n",
       "      <td>0.00</td>\n",
       "      <td>1.00</td>\n",
       "      <td>0.00</td>\n",
       "    </tr>\n",
       "  </tbody>\n",
       "</table>\n",
       "</div>"
      ],
      "text/plain": [
       "   distance_from_home  distance_from_last_transaction  \\\n",
       "0               57.88                            0.31   \n",
       "1               10.83                            0.18   \n",
       "2                5.09                            0.81   \n",
       "3                2.25                            5.60   \n",
       "4               44.19                            0.57   \n",
       "\n",
       "   ratio_to_median_purchase_price  repeat_retailer  used_chip  \\\n",
       "0                            1.95             1.00       1.00   \n",
       "1                            1.29             1.00       0.00   \n",
       "2                            0.43             1.00       0.00   \n",
       "3                            0.36             1.00       1.00   \n",
       "4                            2.22             1.00       1.00   \n",
       "\n",
       "   used_pin_number  online_order  fraud  \n",
       "0             0.00          0.00   0.00  \n",
       "1             0.00          0.00   0.00  \n",
       "2             0.00          1.00   0.00  \n",
       "3             0.00          1.00   0.00  \n",
       "4             0.00          1.00   0.00  "
      ]
     },
     "execution_count": 3,
     "metadata": {},
     "output_type": "execute_result"
    }
   ],
   "source": [
    "df.head()"
   ]
  },
  {
   "cell_type": "code",
   "execution_count": 22,
   "id": "17f5f5e3",
   "metadata": {},
   "outputs": [
    {
     "name": "stdout",
     "output_type": "stream",
     "text": [
      "<class 'pandas.core.frame.DataFrame'>\n",
      "RangeIndex: 1000000 entries, 0 to 999999\n",
      "Data columns (total 8 columns):\n",
      " #   Column                          Non-Null Count    Dtype  \n",
      "---  ------                          --------------    -----  \n",
      " 0   distance_from_home              1000000 non-null  float64\n",
      " 1   distance_from_last_transaction  1000000 non-null  float64\n",
      " 2   ratio_to_median_purchase_price  1000000 non-null  float64\n",
      " 3   repeat_retailer                 1000000 non-null  float64\n",
      " 4   used_chip                       1000000 non-null  float64\n",
      " 5   used_pin_number                 1000000 non-null  float64\n",
      " 6   online_order                    1000000 non-null  float64\n",
      " 7   fraud                           1000000 non-null  float64\n",
      "dtypes: float64(8)\n",
      "memory usage: 61.0 MB\n"
     ]
    }
   ],
   "source": [
    "df.info()"
   ]
  },
  {
   "cell_type": "code",
   "execution_count": 23,
   "id": "d9900e55",
   "metadata": {},
   "outputs": [
    {
     "data": {
      "text/plain": [
       "fraud\n",
       "0.00     912597\n",
       "1.00      87403\n",
       "dtype: int64"
      ]
     },
     "execution_count": 23,
     "metadata": {},
     "output_type": "execute_result"
    }
   ],
   "source": [
    "df[['fraud']].value_counts()"
   ]
  },
  {
   "cell_type": "code",
   "execution_count": 24,
   "id": "da8b5cb1",
   "metadata": {},
   "outputs": [
    {
     "data": {
      "text/html": [
       "<div>\n",
       "<style scoped>\n",
       "    .dataframe tbody tr th:only-of-type {\n",
       "        vertical-align: middle;\n",
       "    }\n",
       "\n",
       "    .dataframe tbody tr th {\n",
       "        vertical-align: top;\n",
       "    }\n",
       "\n",
       "    .dataframe thead th {\n",
       "        text-align: right;\n",
       "    }\n",
       "</style>\n",
       "<table border=\"1\" class=\"dataframe\">\n",
       "  <thead>\n",
       "    <tr style=\"text-align: right;\">\n",
       "      <th></th>\n",
       "      <th>count</th>\n",
       "      <th>mean</th>\n",
       "      <th>std</th>\n",
       "      <th>min</th>\n",
       "      <th>25%</th>\n",
       "      <th>50%</th>\n",
       "      <th>75%</th>\n",
       "      <th>max</th>\n",
       "    </tr>\n",
       "  </thead>\n",
       "  <tbody>\n",
       "    <tr>\n",
       "      <th>distance_from_home</th>\n",
       "      <td>1000000.00</td>\n",
       "      <td>26.63</td>\n",
       "      <td>65.39</td>\n",
       "      <td>0.00</td>\n",
       "      <td>3.88</td>\n",
       "      <td>9.97</td>\n",
       "      <td>25.74</td>\n",
       "      <td>10632.72</td>\n",
       "    </tr>\n",
       "    <tr>\n",
       "      <th>distance_from_last_transaction</th>\n",
       "      <td>1000000.00</td>\n",
       "      <td>5.04</td>\n",
       "      <td>25.84</td>\n",
       "      <td>0.00</td>\n",
       "      <td>0.30</td>\n",
       "      <td>1.00</td>\n",
       "      <td>3.36</td>\n",
       "      <td>11851.10</td>\n",
       "    </tr>\n",
       "    <tr>\n",
       "      <th>ratio_to_median_purchase_price</th>\n",
       "      <td>1000000.00</td>\n",
       "      <td>1.82</td>\n",
       "      <td>2.80</td>\n",
       "      <td>0.00</td>\n",
       "      <td>0.48</td>\n",
       "      <td>1.00</td>\n",
       "      <td>2.10</td>\n",
       "      <td>267.80</td>\n",
       "    </tr>\n",
       "    <tr>\n",
       "      <th>repeat_retailer</th>\n",
       "      <td>1000000.00</td>\n",
       "      <td>0.88</td>\n",
       "      <td>0.32</td>\n",
       "      <td>0.00</td>\n",
       "      <td>1.00</td>\n",
       "      <td>1.00</td>\n",
       "      <td>1.00</td>\n",
       "      <td>1.00</td>\n",
       "    </tr>\n",
       "    <tr>\n",
       "      <th>used_chip</th>\n",
       "      <td>1000000.00</td>\n",
       "      <td>0.35</td>\n",
       "      <td>0.48</td>\n",
       "      <td>0.00</td>\n",
       "      <td>0.00</td>\n",
       "      <td>0.00</td>\n",
       "      <td>1.00</td>\n",
       "      <td>1.00</td>\n",
       "    </tr>\n",
       "    <tr>\n",
       "      <th>used_pin_number</th>\n",
       "      <td>1000000.00</td>\n",
       "      <td>0.10</td>\n",
       "      <td>0.30</td>\n",
       "      <td>0.00</td>\n",
       "      <td>0.00</td>\n",
       "      <td>0.00</td>\n",
       "      <td>0.00</td>\n",
       "      <td>1.00</td>\n",
       "    </tr>\n",
       "    <tr>\n",
       "      <th>online_order</th>\n",
       "      <td>1000000.00</td>\n",
       "      <td>0.65</td>\n",
       "      <td>0.48</td>\n",
       "      <td>0.00</td>\n",
       "      <td>0.00</td>\n",
       "      <td>1.00</td>\n",
       "      <td>1.00</td>\n",
       "      <td>1.00</td>\n",
       "    </tr>\n",
       "    <tr>\n",
       "      <th>fraud</th>\n",
       "      <td>1000000.00</td>\n",
       "      <td>0.09</td>\n",
       "      <td>0.28</td>\n",
       "      <td>0.00</td>\n",
       "      <td>0.00</td>\n",
       "      <td>0.00</td>\n",
       "      <td>0.00</td>\n",
       "      <td>1.00</td>\n",
       "    </tr>\n",
       "  </tbody>\n",
       "</table>\n",
       "</div>"
      ],
      "text/plain": [
       "                                    count  mean   std  min  25%  50%   75%  \\\n",
       "distance_from_home             1000000.00 26.63 65.39 0.00 3.88 9.97 25.74   \n",
       "distance_from_last_transaction 1000000.00  5.04 25.84 0.00 0.30 1.00  3.36   \n",
       "ratio_to_median_purchase_price 1000000.00  1.82  2.80 0.00 0.48 1.00  2.10   \n",
       "repeat_retailer                1000000.00  0.88  0.32 0.00 1.00 1.00  1.00   \n",
       "used_chip                      1000000.00  0.35  0.48 0.00 0.00 0.00  1.00   \n",
       "used_pin_number                1000000.00  0.10  0.30 0.00 0.00 0.00  0.00   \n",
       "online_order                   1000000.00  0.65  0.48 0.00 0.00 1.00  1.00   \n",
       "fraud                          1000000.00  0.09  0.28 0.00 0.00 0.00  0.00   \n",
       "\n",
       "                                    max  \n",
       "distance_from_home             10632.72  \n",
       "distance_from_last_transaction 11851.10  \n",
       "ratio_to_median_purchase_price   267.80  \n",
       "repeat_retailer                    1.00  \n",
       "used_chip                          1.00  \n",
       "used_pin_number                    1.00  \n",
       "online_order                       1.00  \n",
       "fraud                              1.00  "
      ]
     },
     "execution_count": 24,
     "metadata": {},
     "output_type": "execute_result"
    }
   ],
   "source": [
    "df.describe().transpose()"
   ]
  },
  {
   "cell_type": "code",
   "execution_count": 25,
   "id": "a5e21494",
   "metadata": {},
   "outputs": [
    {
     "data": {
      "text/html": [
       "<div>\n",
       "<style scoped>\n",
       "    .dataframe tbody tr th:only-of-type {\n",
       "        vertical-align: middle;\n",
       "    }\n",
       "\n",
       "    .dataframe tbody tr th {\n",
       "        vertical-align: top;\n",
       "    }\n",
       "\n",
       "    .dataframe thead th {\n",
       "        text-align: right;\n",
       "    }\n",
       "</style>\n",
       "<table border=\"1\" class=\"dataframe\">\n",
       "  <thead>\n",
       "    <tr style=\"text-align: right;\">\n",
       "      <th></th>\n",
       "      <th>distance_from_home</th>\n",
       "      <th>distance_from_last_transaction</th>\n",
       "      <th>ratio_to_median_purchase_price</th>\n",
       "      <th>repeat_retailer</th>\n",
       "      <th>used_chip</th>\n",
       "      <th>used_pin_number</th>\n",
       "      <th>online_order</th>\n",
       "    </tr>\n",
       "    <tr>\n",
       "      <th>fraud</th>\n",
       "      <th></th>\n",
       "      <th></th>\n",
       "      <th></th>\n",
       "      <th></th>\n",
       "      <th></th>\n",
       "      <th></th>\n",
       "      <th></th>\n",
       "    </tr>\n",
       "  </thead>\n",
       "  <tbody>\n",
       "    <tr>\n",
       "      <th>0.00</th>\n",
       "      <td>22.83</td>\n",
       "      <td>4.30</td>\n",
       "      <td>1.42</td>\n",
       "      <td>0.88</td>\n",
       "      <td>0.36</td>\n",
       "      <td>0.11</td>\n",
       "      <td>0.62</td>\n",
       "    </tr>\n",
       "    <tr>\n",
       "      <th>1.00</th>\n",
       "      <td>66.26</td>\n",
       "      <td>12.71</td>\n",
       "      <td>6.01</td>\n",
       "      <td>0.88</td>\n",
       "      <td>0.26</td>\n",
       "      <td>0.00</td>\n",
       "      <td>0.95</td>\n",
       "    </tr>\n",
       "  </tbody>\n",
       "</table>\n",
       "</div>"
      ],
      "text/plain": [
       "       distance_from_home  distance_from_last_transaction  \\\n",
       "fraud                                                       \n",
       "0.00                22.83                            4.30   \n",
       "1.00                66.26                           12.71   \n",
       "\n",
       "       ratio_to_median_purchase_price  repeat_retailer  used_chip  \\\n",
       "fraud                                                               \n",
       "0.00                             1.42             0.88       0.36   \n",
       "1.00                             6.01             0.88       0.26   \n",
       "\n",
       "       used_pin_number  online_order  \n",
       "fraud                                 \n",
       "0.00              0.11          0.62  \n",
       "1.00              0.00          0.95  "
      ]
     },
     "execution_count": 25,
     "metadata": {},
     "output_type": "execute_result"
    }
   ],
   "source": [
    "#a quick look at mean value of the features for fraudulent and non-fraudulent transactions\n",
    "df.groupby('fraud').mean()"
   ]
  },
  {
   "cell_type": "code",
   "execution_count": 26,
   "id": "c293744c",
   "metadata": {},
   "outputs": [
    {
     "data": {
      "text/plain": [
       "<Axes: xlabel='fraud', ylabel='count'>"
      ]
     },
     "execution_count": 26,
     "metadata": {},
     "output_type": "execute_result"
    },
    {
     "data": {
      "image/png": "[encoded data removed]",
      "text/plain": [
       "<Figure size 640x480 with 1 Axes>"
      ]
     },
     "metadata": {},
     "output_type": "display_data"
    }
   ],
   "source": [
    "#visualizing the count plot and the unbalanced nature of the dataset\n",
    "sns.countplot(x = 'fraud', data = df)"
   ]
  },
  {
   "cell_type": "code",
   "execution_count": 27,
   "id": "9afa8c3d",
   "metadata": {},
   "outputs": [
    {
     "data": {
      "text/plain": [
       "used_pin_number                  -0.10\n",
       "used_chip                        -0.06\n",
       "repeat_retailer                  -0.00\n",
       "distance_from_last_transaction    0.09\n",
       "distance_from_home                0.19\n",
       "online_order                      0.19\n",
       "ratio_to_median_purchase_price    0.46\n",
       "fraud                             1.00\n",
       "Name: fraud, dtype: float64"
      ]
     },
     "execution_count": 27,
     "metadata": {},
     "output_type": "execute_result"
    }
   ],
   "source": [
    "#correlation of each of the variables with fraud\n",
    "df.corr()['fraud'].sort_values()"
   ]
  },
  {
   "cell_type": "code",
   "execution_count": 28,
   "id": "f7918ee5",
   "metadata": {},
   "outputs": [
    {
     "data": {
      "text/plain": [
       "<Axes: >"
      ]
     },
     "execution_count": 28,
     "metadata": {},
     "output_type": "execute_result"
    },
    {
     "data": {
      "image/png": "[encoded data removed]",
      "text/plain": [
       "<Figure size 640x480 with 2 Axes>"
      ]
     },
     "metadata": {},
     "output_type": "display_data"
    }
   ],
   "source": [
    "sns.heatmap(df.corr())"
   ]
  },
  {
   "cell_type": "code",
   "execution_count": 29,
   "id": "525be072",
   "metadata": {},
   "outputs": [
    {
     "data": {
      "text/plain": [
       "<Axes: >"
      ]
     },
     "execution_count": 29,
     "metadata": {},
     "output_type": "execute_result"
    },
    {
     "data": {
      "image/png": "[encoded data removed]",
      "text/plain": [
       "<Figure size 640x480 with 1 Axes>"
      ]
     },
     "metadata": {},
     "output_type": "display_data"
    }
   ],
   "source": [
    "#visualize the correlation\n",
    "df.corr()['fraud'][:-1].sort_values().plot(kind='bar')"
   ]
  },
  {
   "cell_type": "markdown",
   "id": "e9a2d235",
   "metadata": {},
   "source": [
    "### We further explore the variables with significant correlations with fraud"
   ]
  },
  {
   "cell_type": "code",
   "execution_count": 30,
   "id": "b91979a2",
   "metadata": {},
   "outputs": [
    {
     "data": {
      "text/plain": [
       "<Axes: xlabel='fraud', ylabel='ratio_to_median_purchase_price'>"
      ]
     },
     "execution_count": 30,
     "metadata": {},
     "output_type": "execute_result"
    },
    {
     "data": {
      "image/png": "[encoded data removed]",
      "text/plain": [
       "<Figure size 640x480 with 1 Axes>"
      ]
     },
     "metadata": {},
     "output_type": "display_data"
    }
   ],
   "source": [
    "#ration to median purchase price higher for fraudulent transactions\n",
    "sns.boxplot(x='fraud',y='ratio_to_median_purchase_price',data=df)"
   ]
  },
  {
   "cell_type": "code",
   "execution_count": 31,
   "id": "499aa676",
   "metadata": {},
   "outputs": [
    {
     "data": {
      "text/plain": [
       "<Axes: xlabel='fraud', ylabel='count'>"
      ]
     },
     "execution_count": 31,
     "metadata": {},
     "output_type": "execute_result"
    },
    {
     "data": {
      "image/png": "[encoded data removed]",
      "text/plain": [
       "<Figure size 640x480 with 1 Axes>"
      ]
     },
     "metadata": {},
     "output_type": "display_data"
    }
   ],
   "source": [
    "#online orders are more likely to be fraudulent\n",
    "sns.countplot(x='fraud',hue='online_order',data=df)"
   ]
  },
  {
   "cell_type": "code",
   "execution_count": 32,
   "id": "ba6d5dc7",
   "metadata": {},
   "outputs": [
    {
     "data": {
      "text/plain": [
       "<Axes: xlabel='fraud', ylabel='count'>"
      ]
     },
     "execution_count": 32,
     "metadata": {},
     "output_type": "execute_result"
    },
    {
     "data": {
      "image/png": "[encoded data removed]",
      "text/plain": [
       "<Figure size 640x480 with 1 Axes>"
      ]
     },
     "metadata": {},
     "output_type": "display_data"
    }
   ],
   "source": [
    "#transactions are less likely to be fraudulent when pin numbers are used\n",
    "sns.countplot(x='fraud',hue='used_pin_number',data=df)"
   ]
  },
  {
   "cell_type": "code",
   "execution_count": 34,
   "id": "81533110",
   "metadata": {},
   "outputs": [
    {
     "data": {
      "text/plain": [
       "<Axes: xlabel='fraud', ylabel='distance_from_home'>"
      ]
     },
     "execution_count": 34,
     "metadata": {},
     "output_type": "execute_result"
    },
    {
     "data": {
      "image/png": "[encoded data removed]",
      "text/plain": [
       "<Figure size 640x480 with 1 Axes>"
      ]
     },
     "metadata": {},
     "output_type": "display_data"
    }
   ],
   "source": [
    "sns.boxplot(x='fraud',y='distance_from_home',data=df)"
   ]
  },
  {
   "cell_type": "markdown",
   "id": "a093d159",
   "metadata": {},
   "source": [
    "# DATA PREPROCESSING"
   ]
  },
  {
   "cell_type": "code",
   "execution_count": 3,
   "id": "ed6de9e1",
   "metadata": {},
   "outputs": [],
   "source": [
    "X = df.drop('fraud', axis=1)\n",
    "y = df['fraud']"
   ]
  },
  {
   "cell_type": "code",
   "execution_count": 4,
   "id": "60f1ffbb",
   "metadata": {},
   "outputs": [],
   "source": [
    "X_train, X_test, y_train, y_test = train_test_split(X,y, test_size=0.3,stratify=y, random_state = 43)"
   ]
  },
  {
   "cell_type": "markdown",
   "id": "45646f5f",
   "metadata": {},
   "source": [
    "# MODEL TRAINING\n",
    "#### I shall first fit several model to the dataset to select the best for finetunning."
   ]
  },
  {
   "cell_type": "code",
   "execution_count": 9,
   "id": "004da079",
   "metadata": {},
   "outputs": [
    {
     "name": "stderr",
     "output_type": "stream",
     "text": [
      "100%|██████████| 29/29 [33:49<00:00, 69.98s/it]  \n"
     ]
    }
   ],
   "source": [
    "#clf = LazyClassifier(verbose=0,ignore_warnings=True,custom_metric=None)\n",
    "#models,predictions=clf.fit(X_train,X_test,y_train,y_test)"
   ]
  },
  {
   "cell_type": "code",
   "execution_count": 10,
   "id": "71fff457",
   "metadata": {},
   "outputs": [
    {
     "name": "stdout",
     "output_type": "stream",
     "text": [
      "                               Accuracy  Balanced Accuracy  ROC AUC  F1 Score  \\\n",
      "Model                                                                           \n",
      "RandomForestClassifier             1.00               1.00     1.00      1.00   \n",
      "XGBClassifier                      1.00               1.00     1.00      1.00   \n",
      "DecisionTreeClassifier             1.00               1.00     1.00      1.00   \n",
      "BaggingClassifier                  1.00               1.00     1.00      1.00   \n",
      "AdaBoostClassifier                 1.00               1.00     1.00      1.00   \n",
      "ExtraTreesClassifier               1.00               1.00     1.00      1.00   \n",
      "KNeighborsClassifier               1.00               0.99     0.99      1.00   \n",
      "LGBMClassifier                     1.00               0.99     0.99      1.00   \n",
      "SVC                                1.00               0.99     0.99      1.00   \n",
      "ExtraTreeClassifier                1.00               0.98     0.98      1.00   \n",
      "NearestCentroid                    0.95               0.90     0.90      0.95   \n",
      "QuadraticDiscriminantAnalysis      0.96               0.82     0.82      0.96   \n",
      "SGDClassifier                      0.96               0.82     0.82      0.96   \n",
      "LogisticRegression                 0.96               0.80     0.80      0.96   \n",
      "GaussianNB                         0.95               0.79     0.79      0.95   \n",
      "PassiveAggressiveClassifier        0.95               0.76     0.76      0.94   \n",
      "LinearSVC                          0.95               0.73     0.73      0.94   \n",
      "LinearDiscriminantAnalysis         0.94               0.69     0.69      0.93   \n",
      "RidgeClassifier                    0.92               0.58     0.58      0.90   \n",
      "RidgeClassifierCV                  0.92               0.58     0.58      0.90   \n",
      "BernoulliNB                        0.91               0.57     0.57      0.89   \n",
      "CalibratedClassifierCV             0.92               0.54     0.54      0.89   \n",
      "DummyClassifier                    0.91               0.50     0.50      0.87   \n",
      "Perceptron                         0.89               0.49     0.49      0.86   \n",
      "\n",
      "                               Time Taken  \n",
      "Model                                      \n",
      "RandomForestClassifier             117.19  \n",
      "XGBClassifier                       36.73  \n",
      "DecisionTreeClassifier               2.27  \n",
      "BaggingClassifier                   31.85  \n",
      "AdaBoostClassifier                  92.37  \n",
      "ExtraTreesClassifier                50.19  \n",
      "KNeighborsClassifier                88.45  \n",
      "LGBMClassifier                       8.01  \n",
      "SVC                                984.17  \n",
      "ExtraTreeClassifier                  1.10  \n",
      "NearestCentroid                      0.72  \n",
      "QuadraticDiscriminantAnalysis        1.06  \n",
      "SGDClassifier                        3.98  \n",
      "LogisticRegression                   1.67  \n",
      "GaussianNB                           2.24  \n",
      "PassiveAggressiveClassifier          1.68  \n",
      "LinearSVC                          127.21  \n",
      "LinearDiscriminantAnalysis           1.36  \n",
      "RidgeClassifier                      0.92  \n",
      "RidgeClassifierCV                    2.16  \n",
      "BernoulliNB                          1.94  \n",
      "CalibratedClassifierCV             467.70  \n",
      "DummyClassifier                      0.71  \n",
      "Perceptron                           2.58  \n"
     ]
    }
   ],
   "source": [
    "print(models)"
   ]
  },
  {
   "cell_type": "markdown",
   "id": "73d5a9c6",
   "metadata": {},
   "source": [
    "### XGBoost classifier is second best but it has significantly better training time and not noticeable different hence it will be chosen. Also, the model  "
   ]
  },
  {
   "cell_type": "code",
   "execution_count": 5,
   "id": "d2a8d0b5",
   "metadata": {},
   "outputs": [],
   "source": [
    "fraud_model = xgb.XGBClassifier()"
   ]
  },
  {
   "cell_type": "code",
   "execution_count": 6,
   "id": "cad054d4",
   "metadata": {},
   "outputs": [
    {
     "name": "stdout",
     "output_type": "stream",
     "text": [
      "[0]\tvalidation_0-aucpr:0.99994\n",
      "[1]\tvalidation_0-aucpr:0.99994\n",
      "[2]\tvalidation_0-aucpr:0.99994\n",
      "[3]\tvalidation_0-aucpr:0.99994\n",
      "[4]\tvalidation_0-aucpr:0.99994\n",
      "[5]\tvalidation_0-aucpr:0.99994\n",
      "[6]\tvalidation_0-aucpr:0.99994\n",
      "[7]\tvalidation_0-aucpr:0.99994\n",
      "[8]\tvalidation_0-aucpr:0.99994\n",
      "[9]\tvalidation_0-aucpr:0.99994\n",
      "[10]\tvalidation_0-aucpr:0.99994\n",
      "[11]\tvalidation_0-aucpr:0.99994\n",
      "[12]\tvalidation_0-aucpr:0.99994\n",
      "[13]\tvalidation_0-aucpr:0.99994\n",
      "[14]\tvalidation_0-aucpr:0.99994\n",
      "[15]\tvalidation_0-aucpr:0.99994\n",
      "[16]\tvalidation_0-aucpr:0.99994\n",
      "[17]\tvalidation_0-aucpr:0.99994\n",
      "[18]\tvalidation_0-aucpr:0.99994\n",
      "[19]\tvalidation_0-aucpr:0.99994\n",
      "[20]\tvalidation_0-aucpr:0.99994\n",
      "[21]\tvalidation_0-aucpr:0.99994\n",
      "[22]\tvalidation_0-aucpr:0.99994\n",
      "[23]\tvalidation_0-aucpr:0.99994\n",
      "[24]\tvalidation_0-aucpr:0.99994\n",
      "[25]\tvalidation_0-aucpr:0.99994\n",
      "[26]\tvalidation_0-aucpr:0.99994\n",
      "[27]\tvalidation_0-aucpr:0.99994\n",
      "[28]\tvalidation_0-aucpr:0.99994\n",
      "[29]\tvalidation_0-aucpr:0.99994\n",
      "[30]\tvalidation_0-aucpr:0.99994\n",
      "[31]\tvalidation_0-aucpr:0.99994\n",
      "[32]\tvalidation_0-aucpr:0.99994\n",
      "[33]\tvalidation_0-aucpr:0.99994\n",
      "[34]\tvalidation_0-aucpr:0.99994\n",
      "[35]\tvalidation_0-aucpr:0.99994\n",
      "[36]\tvalidation_0-aucpr:0.99994\n",
      "[37]\tvalidation_0-aucpr:0.99994\n",
      "[38]\tvalidation_0-aucpr:0.99994\n",
      "[39]\tvalidation_0-aucpr:0.99994\n",
      "[40]\tvalidation_0-aucpr:0.99994\n",
      "[41]\tvalidation_0-aucpr:0.99997\n",
      "[42]\tvalidation_0-aucpr:0.99997\n",
      "[43]\tvalidation_0-aucpr:0.99997\n",
      "[44]\tvalidation_0-aucpr:0.99997\n",
      "[45]\tvalidation_0-aucpr:0.99997\n",
      "[46]\tvalidation_0-aucpr:0.99997\n",
      "[47]\tvalidation_0-aucpr:0.99997\n",
      "[48]\tvalidation_0-aucpr:0.99997\n",
      "[49]\tvalidation_0-aucpr:0.99997\n",
      "[50]\tvalidation_0-aucpr:0.99997\n",
      "[51]\tvalidation_0-aucpr:0.99997\n",
      "[52]\tvalidation_0-aucpr:0.99997\n",
      "[53]\tvalidation_0-aucpr:0.99997\n",
      "[54]\tvalidation_0-aucpr:0.99997\n",
      "[55]\tvalidation_0-aucpr:0.99997\n",
      "[56]\tvalidation_0-aucpr:0.99996\n",
      "[57]\tvalidation_0-aucpr:0.99996\n",
      "[58]\tvalidation_0-aucpr:0.99997\n",
      "[59]\tvalidation_0-aucpr:0.99997\n",
      "[60]\tvalidation_0-aucpr:0.99997\n",
      "[61]\tvalidation_0-aucpr:0.99997\n",
      "[62]\tvalidation_0-aucpr:0.99997\n",
      "[63]\tvalidation_0-aucpr:0.99997\n",
      "[64]\tvalidation_0-aucpr:0.99997\n",
      "[65]\tvalidation_0-aucpr:0.99997\n",
      "[66]\tvalidation_0-aucpr:0.99997\n",
      "[67]\tvalidation_0-aucpr:0.99997\n",
      "[68]\tvalidation_0-aucpr:0.99997\n",
      "[69]\tvalidation_0-aucpr:0.99997\n",
      "[70]\tvalidation_0-aucpr:0.99997\n",
      "[71]\tvalidation_0-aucpr:0.99996\n",
      "[72]\tvalidation_0-aucpr:0.99996\n",
      "[73]\tvalidation_0-aucpr:0.99996\n",
      "[74]\tvalidation_0-aucpr:0.99996\n",
      "[75]\tvalidation_0-aucpr:0.99996\n",
      "[76]\tvalidation_0-aucpr:0.99996\n",
      "[77]\tvalidation_0-aucpr:0.99996\n",
      "[78]\tvalidation_0-aucpr:0.99996\n"
     ]
    },
    {
     "data": {
      "text/html": [
       "<style>#sk-container-id-1 {color: black;background-color: white;}#sk-container-id-1 pre{padding: 0;}#sk-container-id-1 div.sk-toggleable {background-color: white;}#sk-container-id-1 label.sk-toggleable__label {cursor: pointer;display: block;width: 100%;margin-bottom: 0;padding: 0.3em;box-sizing: border-box;text-align: center;}#sk-container-id-1 label.sk-toggleable__label-arrow:before {content: \"▸\";float: left;margin-right: 0.25em;color: #696969;}#sk-container-id-1 label.sk-toggleable__label-arrow:hover:before {color: black;}#sk-container-id-1 div.sk-estimator:hover label.sk-toggleable__label-arrow:before {color: black;}#sk-container-id-1 div.sk-toggleable__content {max-height: 0;max-width: 0;overflow: hidden;text-align: left;background-color: #f0f8ff;}#sk-container-id-1 div.sk-toggleable__content pre {margin: 0.2em;color: black;border-radius: 0.25em;background-color: #f0f8ff;}#sk-container-id-1 input.sk-toggleable__control:checked~div.sk-toggleable__content {max-height: 200px;max-width: 100%;overflow: auto;}#sk-container-id-1 input.sk-toggleable__control:checked~label.sk-toggleable__label-arrow:before {content: \"▾\";}#sk-container-id-1 div.sk-estimator input.sk-toggleable__control:checked~label.sk-toggleable__label {background-color: #d4ebff;}#sk-container-id-1 div.sk-label input.sk-toggleable__control:checked~label.sk-toggleable__label {background-color: #d4ebff;}#sk-container-id-1 input.sk-hidden--visually {border: 0;clip: rect(1px 1px 1px 1px);clip: rect(1px, 1px, 1px, 1px);height: 1px;margin: -1px;overflow: hidden;padding: 0;position: absolute;width: 1px;}#sk-container-id-1 div.sk-estimator {font-family: monospace;background-color: #f0f8ff;border: 1px dotted black;border-radius: 0.25em;box-sizing: border-box;margin-bottom: 0.5em;}#sk-container-id-1 div.sk-estimator:hover {background-color: #d4ebff;}#sk-container-id-1 div.sk-parallel-item::after {content: \"\";width: 100%;border-bottom: 1px solid gray;flex-grow: 1;}#sk-container-id-1 div.sk-label:hover label.sk-toggleable__label {background-color: #d4ebff;}#sk-container-id-1 div.sk-serial::before {content: \"\";position: absolute;border-left: 1px solid gray;box-sizing: border-box;top: 0;bottom: 0;left: 50%;z-index: 0;}#sk-container-id-1 div.sk-serial {display: flex;flex-direction: column;align-items: center;background-color: white;padding-right: 0.2em;padding-left: 0.2em;position: relative;}#sk-container-id-1 div.sk-item {position: relative;z-index: 1;}#sk-container-id-1 div.sk-parallel {display: flex;align-items: stretch;justify-content: center;background-color: white;position: relative;}#sk-container-id-1 div.sk-item::before, #sk-container-id-1 div.sk-parallel-item::before {content: \"\";position: absolute;border-left: 1px solid gray;box-sizing: border-box;top: 0;bottom: 0;left: 50%;z-index: -1;}#sk-container-id-1 div.sk-parallel-item {display: flex;flex-direction: column;z-index: 1;position: relative;background-color: white;}#sk-container-id-1 div.sk-parallel-item:first-child::after {align-self: flex-end;width: 50%;}#sk-container-id-1 div.sk-parallel-item:last-child::after {align-self: flex-start;width: 50%;}#sk-container-id-1 div.sk-parallel-item:only-child::after {width: 0;}#sk-container-id-1 div.sk-dashed-wrapped {border: 1px dashed gray;margin: 0 0.4em 0.5em 0.4em;box-sizing: border-box;padding-bottom: 0.4em;background-color: white;}#sk-container-id-1 div.sk-label label {font-family: monospace;font-weight: bold;display: inline-block;line-height: 1.2em;}#sk-container-id-1 div.sk-label-container {text-align: center;}#sk-container-id-1 div.sk-container {/* jupyter's `normalize.less` sets `[hidden] { display: none; }` but bootstrap.min.css set `[hidden] { display: none !important; }` so we also need the `!important` here to be able to override the default hidden behavior on the sphinx rendered scikit-learn.org. See: https://github.com/scikit-learn/scikit-learn/issues/21755 */display: inline-block !important;position: relative;}#sk-container-id-1 div.sk-text-repr-fallback {display: none;}</style><div id=\"sk-container-id-1\" class=\"sk-top-container\"><div class=\"sk-text-repr-fallback\"><pre>XGBClassifier(base_score=0.5, booster=&#x27;gbtree&#x27;, callbacks=None,\n",
       "              colsample_bylevel=1, colsample_bynode=1, colsample_bytree=1,\n",
       "              early_stopping_rounds=None, enable_categorical=False,\n",
       "              eval_metric=None, gamma=0, gpu_id=-1, grow_policy=&#x27;depthwise&#x27;,\n",
       "              importance_type=None, interaction_constraints=&#x27;&#x27;,\n",
       "              learning_rate=0.300000012, max_bin=256, max_cat_to_onehot=4,\n",
       "              max_delta_step=0, max_depth=6, max_leaves=0, min_child_weight=1,\n",
       "              missing=nan, monotone_constraints=&#x27;()&#x27;, n_estimators=100,\n",
       "              n_jobs=0, num_parallel_tree=1, predictor=&#x27;auto&#x27;, random_state=0,\n",
       "              reg_alpha=0, reg_lambda=1, ...)</pre><b>In a Jupyter environment, please rerun this cell to show the HTML representation or trust the notebook. <br />On GitHub, the HTML representation is unable to render, please try loading this page with nbviewer.org.</b></div><div class=\"sk-container\" hidden><div class=\"sk-item\"><div class=\"sk-estimator sk-toggleable\"><input class=\"sk-toggleable__control sk-hidden--visually\" id=\"sk-estimator-id-1\" type=\"checkbox\" checked><label for=\"sk-estimator-id-1\" class=\"sk-toggleable__label sk-toggleable__label-arrow\">XGBClassifier</label><div class=\"sk-toggleable__content\"><pre>XGBClassifier(base_score=0.5, booster=&#x27;gbtree&#x27;, callbacks=None,\n",
       "              colsample_bylevel=1, colsample_bynode=1, colsample_bytree=1,\n",
       "              early_stopping_rounds=None, enable_categorical=False,\n",
       "              eval_metric=None, gamma=0, gpu_id=-1, grow_policy=&#x27;depthwise&#x27;,\n",
       "              importance_type=None, interaction_constraints=&#x27;&#x27;,\n",
       "              learning_rate=0.300000012, max_bin=256, max_cat_to_onehot=4,\n",
       "              max_delta_step=0, max_depth=6, max_leaves=0, min_child_weight=1,\n",
       "              missing=nan, monotone_constraints=&#x27;()&#x27;, n_estimators=100,\n",
       "              n_jobs=0, num_parallel_tree=1, predictor=&#x27;auto&#x27;, random_state=0,\n",
       "              reg_alpha=0, reg_lambda=1, ...)</pre></div></div></div></div></div>"
      ],
      "text/plain": [
       "XGBClassifier(base_score=0.5, booster='gbtree', callbacks=None,\n",
       "              colsample_bylevel=1, colsample_bynode=1, colsample_bytree=1,\n",
       "              early_stopping_rounds=None, enable_categorical=False,\n",
       "              eval_metric=None, gamma=0, gpu_id=-1, grow_policy='depthwise',\n",
       "              importance_type=None, interaction_constraints='',\n",
       "              learning_rate=0.300000012, max_bin=256, max_cat_to_onehot=4,\n",
       "              max_delta_step=0, max_depth=6, max_leaves=0, min_child_weight=1,\n",
       "              missing=nan, monotone_constraints='()', n_estimators=100,\n",
       "              n_jobs=0, num_parallel_tree=1, predictor='auto', random_state=0,\n",
       "              reg_alpha=0, reg_lambda=1, ...)"
      ]
     },
     "execution_count": 6,
     "metadata": {},
     "output_type": "execute_result"
    }
   ],
   "source": [
    "fraud_model.fit(X_train,\n",
    "            y_train,\n",
    "            verbose=True,\n",
    "            early_stopping_rounds=10,\n",
    "            eval_metric='aucpr',\n",
    "            eval_set=[(X_test,y_test)])"
   ]
  },
  {
   "cell_type": "code",
   "execution_count": 7,
   "id": "2622c3de",
   "metadata": {},
   "outputs": [],
   "source": [
    "from sklearn.metrics import classification_report, balanced_accuracy_score, roc_auc_score, make_scorer, f1_score, precision_score, recall_score"
   ]
  },
  {
   "cell_type": "code",
   "execution_count": 8,
   "id": "38f2c257",
   "metadata": {},
   "outputs": [],
   "source": [
    "import matplotlib.pyplot as plt"
   ]
  },
  {
   "cell_type": "code",
   "execution_count": 9,
   "id": "46d09343",
   "metadata": {},
   "outputs": [],
   "source": [
    "predictions = fraud_model.predict(X_test)"
   ]
  },
  {
   "cell_type": "code",
   "execution_count": 10,
   "id": "14646a84",
   "metadata": {},
   "outputs": [
    {
     "name": "stdout",
     "output_type": "stream",
     "text": [
      "<class 'numpy.ndarray'>\n"
     ]
    }
   ],
   "source": [
    "print(type(predictions))"
   ]
  },
  {
   "cell_type": "code",
   "execution_count": 11,
   "id": "fba58b55",
   "metadata": {},
   "outputs": [
    {
     "data": {
      "text/plain": [
       "array([0, 0, 1, ..., 0, 1, 0])"
      ]
     },
     "execution_count": 11,
     "metadata": {},
     "output_type": "execute_result"
    }
   ],
   "source": [
    "predictions"
   ]
  },
  {
   "cell_type": "code",
   "execution_count": 16,
   "id": "6c8588d7",
   "metadata": {},
   "outputs": [
    {
     "data": {
      "text/html": [
       "<div>\n",
       "<style scoped>\n",
       "    .dataframe tbody tr th:only-of-type {\n",
       "        vertical-align: middle;\n",
       "    }\n",
       "\n",
       "    .dataframe tbody tr th {\n",
       "        vertical-align: top;\n",
       "    }\n",
       "\n",
       "    .dataframe thead th {\n",
       "        text-align: right;\n",
       "    }\n",
       "</style>\n",
       "<table border=\"1\" class=\"dataframe\">\n",
       "  <thead>\n",
       "    <tr style=\"text-align: right;\">\n",
       "      <th></th>\n",
       "      <th>distance_from_home</th>\n",
       "      <th>distance_from_last_transaction</th>\n",
       "      <th>ratio_to_median_purchase_price</th>\n",
       "      <th>repeat_retailer</th>\n",
       "      <th>used_chip</th>\n",
       "      <th>used_pin_number</th>\n",
       "      <th>online_order</th>\n",
       "    </tr>\n",
       "  </thead>\n",
       "  <tbody>\n",
       "    <tr>\n",
       "      <th>240118</th>\n",
       "      <td>32.71</td>\n",
       "      <td>1.17</td>\n",
       "      <td>1.61</td>\n",
       "      <td>1.00</td>\n",
       "      <td>0.00</td>\n",
       "      <td>0.00</td>\n",
       "      <td>1.00</td>\n",
       "    </tr>\n",
       "    <tr>\n",
       "      <th>252671</th>\n",
       "      <td>13.02</td>\n",
       "      <td>0.19</td>\n",
       "      <td>0.94</td>\n",
       "      <td>1.00</td>\n",
       "      <td>0.00</td>\n",
       "      <td>0.00</td>\n",
       "      <td>1.00</td>\n",
       "    </tr>\n",
       "    <tr>\n",
       "      <th>17437</th>\n",
       "      <td>51.01</td>\n",
       "      <td>0.70</td>\n",
       "      <td>4.27</td>\n",
       "      <td>1.00</td>\n",
       "      <td>0.00</td>\n",
       "      <td>0.00</td>\n",
       "      <td>1.00</td>\n",
       "    </tr>\n",
       "    <tr>\n",
       "      <th>830281</th>\n",
       "      <td>10.96</td>\n",
       "      <td>2.32</td>\n",
       "      <td>1.64</td>\n",
       "      <td>1.00</td>\n",
       "      <td>1.00</td>\n",
       "      <td>0.00</td>\n",
       "      <td>1.00</td>\n",
       "    </tr>\n",
       "    <tr>\n",
       "      <th>496497</th>\n",
       "      <td>36.80</td>\n",
       "      <td>0.97</td>\n",
       "      <td>20.25</td>\n",
       "      <td>1.00</td>\n",
       "      <td>1.00</td>\n",
       "      <td>0.00</td>\n",
       "      <td>0.00</td>\n",
       "    </tr>\n",
       "    <tr>\n",
       "      <th>...</th>\n",
       "      <td>...</td>\n",
       "      <td>...</td>\n",
       "      <td>...</td>\n",
       "      <td>...</td>\n",
       "      <td>...</td>\n",
       "      <td>...</td>\n",
       "      <td>...</td>\n",
       "    </tr>\n",
       "    <tr>\n",
       "      <th>247120</th>\n",
       "      <td>26.44</td>\n",
       "      <td>0.60</td>\n",
       "      <td>7.39</td>\n",
       "      <td>1.00</td>\n",
       "      <td>0.00</td>\n",
       "      <td>0.00</td>\n",
       "      <td>0.00</td>\n",
       "    </tr>\n",
       "    <tr>\n",
       "      <th>754971</th>\n",
       "      <td>12.21</td>\n",
       "      <td>3.32</td>\n",
       "      <td>0.69</td>\n",
       "      <td>1.00</td>\n",
       "      <td>0.00</td>\n",
       "      <td>0.00</td>\n",
       "      <td>1.00</td>\n",
       "    </tr>\n",
       "    <tr>\n",
       "      <th>935649</th>\n",
       "      <td>80.74</td>\n",
       "      <td>0.17</td>\n",
       "      <td>1.37</td>\n",
       "      <td>1.00</td>\n",
       "      <td>0.00</td>\n",
       "      <td>0.00</td>\n",
       "      <td>1.00</td>\n",
       "    </tr>\n",
       "    <tr>\n",
       "      <th>947639</th>\n",
       "      <td>116.13</td>\n",
       "      <td>3.90</td>\n",
       "      <td>0.77</td>\n",
       "      <td>1.00</td>\n",
       "      <td>0.00</td>\n",
       "      <td>0.00</td>\n",
       "      <td>1.00</td>\n",
       "    </tr>\n",
       "    <tr>\n",
       "      <th>870696</th>\n",
       "      <td>5.09</td>\n",
       "      <td>2.57</td>\n",
       "      <td>0.09</td>\n",
       "      <td>1.00</td>\n",
       "      <td>0.00</td>\n",
       "      <td>1.00</td>\n",
       "      <td>1.00</td>\n",
       "    </tr>\n",
       "  </tbody>\n",
       "</table>\n",
       "<p>300000 rows × 7 columns</p>\n",
       "</div>"
      ],
      "text/plain": [
       "        distance_from_home  distance_from_last_transaction  \\\n",
       "240118               32.71                            1.17   \n",
       "252671               13.02                            0.19   \n",
       "17437                51.01                            0.70   \n",
       "830281               10.96                            2.32   \n",
       "496497               36.80                            0.97   \n",
       "...                    ...                             ...   \n",
       "247120               26.44                            0.60   \n",
       "754971               12.21                            3.32   \n",
       "935649               80.74                            0.17   \n",
       "947639              116.13                            3.90   \n",
       "870696                5.09                            2.57   \n",
       "\n",
       "        ratio_to_median_purchase_price  repeat_retailer  used_chip  \\\n",
       "240118                            1.61             1.00       0.00   \n",
       "252671                            0.94             1.00       0.00   \n",
       "17437                             4.27             1.00       0.00   \n",
       "830281                            1.64             1.00       1.00   \n",
       "496497                           20.25             1.00       1.00   \n",
       "...                                ...              ...        ...   \n",
       "247120                            7.39             1.00       0.00   \n",
       "754971                            0.69             1.00       0.00   \n",
       "935649                            1.37             1.00       0.00   \n",
       "947639                            0.77             1.00       0.00   \n",
       "870696                            0.09             1.00       0.00   \n",
       "\n",
       "        used_pin_number  online_order  \n",
       "240118             0.00          1.00  \n",
       "252671             0.00          1.00  \n",
       "17437              0.00          1.00  \n",
       "830281             0.00          1.00  \n",
       "496497             0.00          0.00  \n",
       "...                 ...           ...  \n",
       "247120             0.00          0.00  \n",
       "754971             0.00          1.00  \n",
       "935649             0.00          1.00  \n",
       "947639             0.00          1.00  \n",
       "870696             1.00          1.00  \n",
       "\n",
       "[300000 rows x 7 columns]"
      ]
     },
     "execution_count": 16,
     "metadata": {},
     "output_type": "execute_result"
    }
   ],
   "source": [
    "X_test"
   ]
  },
  {
   "cell_type": "code",
   "execution_count": 14,
   "id": "050bb937",
   "metadata": {},
   "outputs": [
    {
     "data": {
      "text/html": [
       "<div>\n",
       "<style scoped>\n",
       "    .dataframe tbody tr th:only-of-type {\n",
       "        vertical-align: middle;\n",
       "    }\n",
       "\n",
       "    .dataframe tbody tr th {\n",
       "        vertical-align: top;\n",
       "    }\n",
       "\n",
       "    .dataframe thead th {\n",
       "        text-align: right;\n",
       "    }\n",
       "</style>\n",
       "<table border=\"1\" class=\"dataframe\">\n",
       "  <thead>\n",
       "    <tr style=\"text-align: right;\">\n",
       "      <th></th>\n",
       "      <th>0</th>\n",
       "    </tr>\n",
       "  </thead>\n",
       "  <tbody>\n",
       "    <tr>\n",
       "      <th>0</th>\n",
       "      <td>0</td>\n",
       "    </tr>\n",
       "    <tr>\n",
       "      <th>1</th>\n",
       "      <td>0</td>\n",
       "    </tr>\n",
       "    <tr>\n",
       "      <th>2</th>\n",
       "      <td>1</td>\n",
       "    </tr>\n",
       "    <tr>\n",
       "      <th>3</th>\n",
       "      <td>0</td>\n",
       "    </tr>\n",
       "    <tr>\n",
       "      <th>4</th>\n",
       "      <td>0</td>\n",
       "    </tr>\n",
       "    <tr>\n",
       "      <th>...</th>\n",
       "      <td>...</td>\n",
       "    </tr>\n",
       "    <tr>\n",
       "      <th>299995</th>\n",
       "      <td>0</td>\n",
       "    </tr>\n",
       "    <tr>\n",
       "      <th>299996</th>\n",
       "      <td>0</td>\n",
       "    </tr>\n",
       "    <tr>\n",
       "      <th>299997</th>\n",
       "      <td>0</td>\n",
       "    </tr>\n",
       "    <tr>\n",
       "      <th>299998</th>\n",
       "      <td>1</td>\n",
       "    </tr>\n",
       "    <tr>\n",
       "      <th>299999</th>\n",
       "      <td>0</td>\n",
       "    </tr>\n",
       "  </tbody>\n",
       "</table>\n",
       "<p>300000 rows × 1 columns</p>\n",
       "</div>"
      ],
      "text/plain": [
       "        0\n",
       "0       0\n",
       "1       0\n",
       "2       1\n",
       "3       0\n",
       "4       0\n",
       "...    ..\n",
       "299995  0\n",
       "299996  0\n",
       "299997  0\n",
       "299998  1\n",
       "299999  0\n",
       "\n",
       "[300000 rows x 1 columns]"
      ]
     },
     "execution_count": 14,
     "metadata": {},
     "output_type": "execute_result"
    }
   ],
   "source": [
    "pd.DataFrame(predictions)"
   ]
  },
  {
   "cell_type": "code",
   "execution_count": 24,
   "id": "385e88b3",
   "metadata": {},
   "outputs": [],
   "source": [
    "X_test['predictions'] = predictions.tolist()"
   ]
  },
  {
   "cell_type": "code",
   "execution_count": 25,
   "id": "499fe64b",
   "metadata": {},
   "outputs": [
    {
     "data": {
      "text/html": [
       "<div>\n",
       "<style scoped>\n",
       "    .dataframe tbody tr th:only-of-type {\n",
       "        vertical-align: middle;\n",
       "    }\n",
       "\n",
       "    .dataframe tbody tr th {\n",
       "        vertical-align: top;\n",
       "    }\n",
       "\n",
       "    .dataframe thead th {\n",
       "        text-align: right;\n",
       "    }\n",
       "</style>\n",
       "<table border=\"1\" class=\"dataframe\">\n",
       "  <thead>\n",
       "    <tr style=\"text-align: right;\">\n",
       "      <th></th>\n",
       "      <th>distance_from_home</th>\n",
       "      <th>distance_from_last_transaction</th>\n",
       "      <th>ratio_to_median_purchase_price</th>\n",
       "      <th>repeat_retailer</th>\n",
       "      <th>used_chip</th>\n",
       "      <th>used_pin_number</th>\n",
       "      <th>online_order</th>\n",
       "      <th>predictions</th>\n",
       "    </tr>\n",
       "  </thead>\n",
       "  <tbody>\n",
       "    <tr>\n",
       "      <th>240118</th>\n",
       "      <td>32.71</td>\n",
       "      <td>1.17</td>\n",
       "      <td>1.61</td>\n",
       "      <td>1.00</td>\n",
       "      <td>0.00</td>\n",
       "      <td>0.00</td>\n",
       "      <td>1.00</td>\n",
       "      <td>0</td>\n",
       "    </tr>\n",
       "    <tr>\n",
       "      <th>252671</th>\n",
       "      <td>13.02</td>\n",
       "      <td>0.19</td>\n",
       "      <td>0.94</td>\n",
       "      <td>1.00</td>\n",
       "      <td>0.00</td>\n",
       "      <td>0.00</td>\n",
       "      <td>1.00</td>\n",
       "      <td>0</td>\n",
       "    </tr>\n",
       "    <tr>\n",
       "      <th>17437</th>\n",
       "      <td>51.01</td>\n",
       "      <td>0.70</td>\n",
       "      <td>4.27</td>\n",
       "      <td>1.00</td>\n",
       "      <td>0.00</td>\n",
       "      <td>0.00</td>\n",
       "      <td>1.00</td>\n",
       "      <td>1</td>\n",
       "    </tr>\n",
       "    <tr>\n",
       "      <th>830281</th>\n",
       "      <td>10.96</td>\n",
       "      <td>2.32</td>\n",
       "      <td>1.64</td>\n",
       "      <td>1.00</td>\n",
       "      <td>1.00</td>\n",
       "      <td>0.00</td>\n",
       "      <td>1.00</td>\n",
       "      <td>0</td>\n",
       "    </tr>\n",
       "    <tr>\n",
       "      <th>496497</th>\n",
       "      <td>36.80</td>\n",
       "      <td>0.97</td>\n",
       "      <td>20.25</td>\n",
       "      <td>1.00</td>\n",
       "      <td>1.00</td>\n",
       "      <td>0.00</td>\n",
       "      <td>0.00</td>\n",
       "      <td>0</td>\n",
       "    </tr>\n",
       "    <tr>\n",
       "      <th>...</th>\n",
       "      <td>...</td>\n",
       "      <td>...</td>\n",
       "      <td>...</td>\n",
       "      <td>...</td>\n",
       "      <td>...</td>\n",
       "      <td>...</td>\n",
       "      <td>...</td>\n",
       "      <td>...</td>\n",
       "    </tr>\n",
       "    <tr>\n",
       "      <th>247120</th>\n",
       "      <td>26.44</td>\n",
       "      <td>0.60</td>\n",
       "      <td>7.39</td>\n",
       "      <td>1.00</td>\n",
       "      <td>0.00</td>\n",
       "      <td>0.00</td>\n",
       "      <td>0.00</td>\n",
       "      <td>0</td>\n",
       "    </tr>\n",
       "    <tr>\n",
       "      <th>754971</th>\n",
       "      <td>12.21</td>\n",
       "      <td>3.32</td>\n",
       "      <td>0.69</td>\n",
       "      <td>1.00</td>\n",
       "      <td>0.00</td>\n",
       "      <td>0.00</td>\n",
       "      <td>1.00</td>\n",
       "      <td>0</td>\n",
       "    </tr>\n",
       "    <tr>\n",
       "      <th>935649</th>\n",
       "      <td>80.74</td>\n",
       "      <td>0.17</td>\n",
       "      <td>1.37</td>\n",
       "      <td>1.00</td>\n",
       "      <td>0.00</td>\n",
       "      <td>0.00</td>\n",
       "      <td>1.00</td>\n",
       "      <td>0</td>\n",
       "    </tr>\n",
       "    <tr>\n",
       "      <th>947639</th>\n",
       "      <td>116.13</td>\n",
       "      <td>3.90</td>\n",
       "      <td>0.77</td>\n",
       "      <td>1.00</td>\n",
       "      <td>0.00</td>\n",
       "      <td>0.00</td>\n",
       "      <td>1.00</td>\n",
       "      <td>1</td>\n",
       "    </tr>\n",
       "    <tr>\n",
       "      <th>870696</th>\n",
       "      <td>5.09</td>\n",
       "      <td>2.57</td>\n",
       "      <td>0.09</td>\n",
       "      <td>1.00</td>\n",
       "      <td>0.00</td>\n",
       "      <td>1.00</td>\n",
       "      <td>1.00</td>\n",
       "      <td>0</td>\n",
       "    </tr>\n",
       "  </tbody>\n",
       "</table>\n",
       "<p>300000 rows × 8 columns</p>\n",
       "</div>"
      ],
      "text/plain": [
       "        distance_from_home  distance_from_last_transaction  \\\n",
       "240118               32.71                            1.17   \n",
       "252671               13.02                            0.19   \n",
       "17437                51.01                            0.70   \n",
       "830281               10.96                            2.32   \n",
       "496497               36.80                            0.97   \n",
       "...                    ...                             ...   \n",
       "247120               26.44                            0.60   \n",
       "754971               12.21                            3.32   \n",
       "935649               80.74                            0.17   \n",
       "947639              116.13                            3.90   \n",
       "870696                5.09                            2.57   \n",
       "\n",
       "        ratio_to_median_purchase_price  repeat_retailer  used_chip  \\\n",
       "240118                            1.61             1.00       0.00   \n",
       "252671                            0.94             1.00       0.00   \n",
       "17437                             4.27             1.00       0.00   \n",
       "830281                            1.64             1.00       1.00   \n",
       "496497                           20.25             1.00       1.00   \n",
       "...                                ...              ...        ...   \n",
       "247120                            7.39             1.00       0.00   \n",
       "754971                            0.69             1.00       0.00   \n",
       "935649                            1.37             1.00       0.00   \n",
       "947639                            0.77             1.00       0.00   \n",
       "870696                            0.09             1.00       0.00   \n",
       "\n",
       "        used_pin_number  online_order  predictions  \n",
       "240118             0.00          1.00            0  \n",
       "252671             0.00          1.00            0  \n",
       "17437              0.00          1.00            1  \n",
       "830281             0.00          1.00            0  \n",
       "496497             0.00          0.00            0  \n",
       "...                 ...           ...          ...  \n",
       "247120             0.00          0.00            0  \n",
       "754971             0.00          1.00            0  \n",
       "935649             0.00          1.00            0  \n",
       "947639             0.00          1.00            1  \n",
       "870696             1.00          1.00            0  \n",
       "\n",
       "[300000 rows x 8 columns]"
      ]
     },
     "execution_count": 25,
     "metadata": {},
     "output_type": "execute_result"
    }
   ],
   "source": [
    "X_test"
   ]
  },
  {
   "cell_type": "code",
   "execution_count": 19,
   "id": "6c914a24",
   "metadata": {},
   "outputs": [
    {
     "name": "stdout",
     "output_type": "stream",
     "text": [
      "              precision    recall  f1-score   support\n",
      "\n",
      "         0.0       1.00      1.00      1.00    273779\n",
      "         1.0       1.00      1.00      1.00     26221\n",
      "\n",
      "    accuracy                           1.00    300000\n",
      "   macro avg       1.00      1.00      1.00    300000\n",
      "weighted avg       1.00      1.00      1.00    300000\n",
      "\n"
     ]
    }
   ],
   "source": [
    "print(classification_report(y_test,predictions))"
   ]
  },
  {
   "cell_type": "code",
   "execution_count": 20,
   "id": "fbe68639",
   "metadata": {},
   "outputs": [],
   "source": [
    "from sklearn.metrics import confusion_matrix"
   ]
  },
  {
   "cell_type": "code",
   "execution_count": 21,
   "id": "eda5ac11",
   "metadata": {},
   "outputs": [
    {
     "data": {
      "text/plain": [
       "array([[273779,      0],\n",
       "       [     3,  26218]], dtype=int64)"
      ]
     },
     "execution_count": 21,
     "metadata": {},
     "output_type": "execute_result"
    }
   ],
   "source": [
    "confusion_matrix(y_test,predictions)"
   ]
  },
  {
   "cell_type": "code",
   "execution_count": null,
   "id": "ffb7c925",
   "metadata": {},
   "outputs": [],
   "source": []
  },
  {
   "cell_type": "code",
   "execution_count": 37,
   "id": "0c273229",
   "metadata": {},
   "outputs": [],
   "source": [
    "param_grid = {\n",
    "    \"max_depth\":[2,3,4,5],\n",
    "    \"learning_rate\":[0.01, 0.05, 0.1, 0.5, 1.0],\n",
    "    \"gamma\":[0, 0.25, 0.5, 0.75, 1.0],\n",
    "    \"reg_lambda\":[0,1.0,10.0,20,100],\n",
    "}"
   ]
  },
  {
   "cell_type": "code",
   "execution_count": 41,
   "id": "8a99897f",
   "metadata": {},
   "outputs": [],
   "source": [
    "optima_params = GridSearchCV(\n",
    "    estimator = xgb.XGBClassifier(objective=\"binary:logistic\",\n",
    "                                    use_label_encoder=False,\n",
    "                                    seed=42,\n",
    "                                    subsample=0.9,\n",
    "                                    colsample_bytree=0.5),\n",
    "    param_grid=param_grid,\n",
    "    scoring=\"roc_auc\",\n",
    "    verbose=0,\n",
    "    n_jobs=10,\n",
    "    cv=3\n",
    ")"
   ]
  },
  {
   "cell_type": "code",
   "execution_count": null,
   "id": "adb084a8",
   "metadata": {},
   "outputs": [],
   "source": [
    "optima_params.fit(X_train,\n",
    "                  y_train,\n",
    "                  early_stopping_rounds=10,\n",
    "                  eval_metric=\"auc\",\n",
    "                  eval_set=[(X_test,y_test)],\n",
    "                  verbose=False\n",
    ")\n",
    "print(optima_params.best_params_)"
   ]
  },
  {
   "cell_type": "code",
   "execution_count": 26,
   "id": "fcb30611",
   "metadata": {},
   "outputs": [
    {
     "data": {
      "text/html": [
       "<div>\n",
       "<style scoped>\n",
       "    .dataframe tbody tr th:only-of-type {\n",
       "        vertical-align: middle;\n",
       "    }\n",
       "\n",
       "    .dataframe tbody tr th {\n",
       "        vertical-align: top;\n",
       "    }\n",
       "\n",
       "    .dataframe thead th {\n",
       "        text-align: right;\n",
       "    }\n",
       "</style>\n",
       "<table border=\"1\" class=\"dataframe\">\n",
       "  <thead>\n",
       "    <tr style=\"text-align: right;\">\n",
       "      <th></th>\n",
       "      <th>distance_from_home</th>\n",
       "      <th>distance_from_last_transaction</th>\n",
       "      <th>ratio_to_median_purchase_price</th>\n",
       "      <th>repeat_retailer</th>\n",
       "      <th>used_chip</th>\n",
       "      <th>used_pin_number</th>\n",
       "      <th>online_order</th>\n",
       "      <th>fraud</th>\n",
       "    </tr>\n",
       "  </thead>\n",
       "  <tbody>\n",
       "    <tr>\n",
       "      <th>0</th>\n",
       "      <td>57.88</td>\n",
       "      <td>0.31</td>\n",
       "      <td>1.95</td>\n",
       "      <td>1.00</td>\n",
       "      <td>1.00</td>\n",
       "      <td>0.00</td>\n",
       "      <td>0.00</td>\n",
       "      <td>0.00</td>\n",
       "    </tr>\n",
       "    <tr>\n",
       "      <th>1</th>\n",
       "      <td>10.83</td>\n",
       "      <td>0.18</td>\n",
       "      <td>1.29</td>\n",
       "      <td>1.00</td>\n",
       "      <td>0.00</td>\n",
       "      <td>0.00</td>\n",
       "      <td>0.00</td>\n",
       "      <td>0.00</td>\n",
       "    </tr>\n",
       "    <tr>\n",
       "      <th>2</th>\n",
       "      <td>5.09</td>\n",
       "      <td>0.81</td>\n",
       "      <td>0.43</td>\n",
       "      <td>1.00</td>\n",
       "      <td>0.00</td>\n",
       "      <td>0.00</td>\n",
       "      <td>1.00</td>\n",
       "      <td>0.00</td>\n",
       "    </tr>\n",
       "    <tr>\n",
       "      <th>3</th>\n",
       "      <td>2.25</td>\n",
       "      <td>5.60</td>\n",
       "      <td>0.36</td>\n",
       "      <td>1.00</td>\n",
       "      <td>1.00</td>\n",
       "      <td>0.00</td>\n",
       "      <td>1.00</td>\n",
       "      <td>0.00</td>\n",
       "    </tr>\n",
       "    <tr>\n",
       "      <th>4</th>\n",
       "      <td>44.19</td>\n",
       "      <td>0.57</td>\n",
       "      <td>2.22</td>\n",
       "      <td>1.00</td>\n",
       "      <td>1.00</td>\n",
       "      <td>0.00</td>\n",
       "      <td>1.00</td>\n",
       "      <td>0.00</td>\n",
       "    </tr>\n",
       "  </tbody>\n",
       "</table>\n",
       "</div>"
      ],
      "text/plain": [
       "   distance_from_home  distance_from_last_transaction  \\\n",
       "0               57.88                            0.31   \n",
       "1               10.83                            0.18   \n",
       "2                5.09                            0.81   \n",
       "3                2.25                            5.60   \n",
       "4               44.19                            0.57   \n",
       "\n",
       "   ratio_to_median_purchase_price  repeat_retailer  used_chip  \\\n",
       "0                            1.95             1.00       1.00   \n",
       "1                            1.29             1.00       0.00   \n",
       "2                            0.43             1.00       0.00   \n",
       "3                            0.36             1.00       1.00   \n",
       "4                            2.22             1.00       1.00   \n",
       "\n",
       "   used_pin_number  online_order  fraud  \n",
       "0             0.00          0.00   0.00  \n",
       "1             0.00          0.00   0.00  \n",
       "2             0.00          1.00   0.00  \n",
       "3             0.00          1.00   0.00  \n",
       "4             0.00          1.00   0.00  "
      ]
     },
     "execution_count": 26,
     "metadata": {},
     "output_type": "execute_result"
    }
   ],
   "source": [
    "df.head()"
   ]
  },
  {
   "cell_type": "code",
   "execution_count": 30,
   "id": "141cb6aa",
   "metadata": {},
   "outputs": [],
   "source": [
    "transaction_data_set_one = df.drop('fraud', axis=1)"
   ]
  },
  {
   "cell_type": "code",
   "execution_count": 32,
   "id": "398b1d54",
   "metadata": {},
   "outputs": [],
   "source": [
    "transaction_data_set_one.to_csv('../data/prediction_data/prediction_input/transaction_data_set_one.csv')"
   ]
  }
 ],
 "metadata": {
  "kernelspec": {
   "display_name": "Python 3 (ipykernel)",
   "language": "python",
   "name": "python3"
  },
  "language_info": {
   "codemirror_mode": {
    "name": "ipython",
    "version": 3
   },
   "file_extension": ".py",
   "mimetype": "text/x-python",
   "name": "python",
   "nbconvert_exporter": "python",
   "pygments_lexer": "ipython3",
   "version": "3.9.12"
  }
 },
 "nbformat": 4,
 "nbformat_minor": 5
}
